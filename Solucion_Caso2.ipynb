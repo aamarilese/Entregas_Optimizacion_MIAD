{
 "cells": [
  {
   "cell_type": "markdown",
   "metadata": {},
   "source": [
    "## Solución Ejemplo Mezcla de Canales Digitales"
   ]
  },
  {
   "cell_type": "markdown",
   "metadata": {},
   "source": [
    "**Formulación Matemática del Problema**\n",
    "\n",
    "*Función Objetivo* <br><br>\n",
    "$\\max \\sum_{i \\in I} a_i x_i$ <br>\n",
    "*s.a.* <br><br>\n",
    "$x_i \\leq c_i, \\quad \\forall i \\in I$ <br>\n",
    "$\\sum_{i \\in I} x_i \\leq p$ <br>\n",
    "$q \\sum_{i \\in I} x_i \\leq x_{Facebook}$ <br>\n",
    "$x_i \\geq 0, \\quad \\forall i \\in I$\n"
   ]
  },
  {
   "cell_type": "markdown",
   "metadata": {},
   "source": [
    "### Carga de Librerias"
   ]
  },
  {
   "cell_type": "code",
   "execution_count": 7,
   "metadata": {},
   "outputs": [],
   "source": [
    "import pulp as lp\n",
    "import numpy as np\n",
    "import matplotlib.pyplot as plt"
   ]
  },
  {
   "cell_type": "markdown",
   "metadata": {},
   "source": [
    "### Definición de Conjuntos y Parámetros"
   ]
  },
  {
   "cell_type": "code",
   "execution_count": 8,
   "metadata": {},
   "outputs": [],
   "source": [
    "# Definición de conjunto\n",
    "I = ['Facebook', 'Youtube', 'Twitter', 'TikTok', 'LinkedIn']\n",
    "# Definición de parámetros\n",
    "a = {canal: val for canal, val in zip(I, (2,5,3,4.5,2.9))}  # Incremento en ventas por dolar invertido\n",
    "c = {canal: val for canal, val in zip(I, (3000, 4000, 2000, 2000, 3000))}  # Inversión maxima por canal\n",
    "p = 10000  # Presupuesto total\n",
    "q = 0.3 # Inversión mínima en facebook"
   ]
  },
  {
   "cell_type": "markdown",
   "metadata": {},
   "source": [
    "### Definición del Modelo"
   ]
  },
  {
   "cell_type": "code",
   "execution_count": 9,
   "metadata": {},
   "outputs": [],
   "source": [
    "# Definición del problema\n",
    "problema = lp.LpProblem(sense=lp.LpMaximize)\n",
    "# Definición de variables\n",
    "x = lp.LpVariable.dicts('canales', indices=I, lowBound=0, cat=lp.LpContinuous)"
   ]
  },
  {
   "cell_type": "code",
   "execution_count": 10,
   "metadata": {},
   "outputs": [],
   "source": [
    "# Función objetivo\n",
    "problema += lp.lpSum([a[i] * x[i] for i in I])"
   ]
  },
  {
   "cell_type": "code",
   "execution_count": null,
   "metadata": {},
   "outputs": [],
   "source": [
    "# Restricciones\n",
    "for i in I:\n",
    "    problema += x[i] <= c[i], f'R1'+i\n",
    "problema += lp.lpSum([x[i] for i in I]) <= p, 'R2_new'\n",
    "problema += q * lp.lpSum([x[i] for i in I]) <= x['Facebook'], 'R3_new'"
   ]
  },
  {
   "cell_type": "code",
   "execution_count": 12,
   "metadata": {},
   "outputs": [
    {
     "name": "stdout",
     "output_type": "stream",
     "text": [
      "Estado: Optimal\n",
      "Valor objetivo: 38000.0\n",
      "Valores de las variables:\n",
      "Facebook: 3000.0\n",
      "Youtube: 4000.0\n",
      "Twitter: 1000.0\n",
      "TikTok: 2000.0\n",
      "LinkedIn: 0.0\n"
     ]
    }
   ],
   "source": [
    "# Solucion\n",
    "problema.solve()\n",
    "print('Estado:', lp.LpStatus[problema.status])\n",
    "\n",
    "# Verificar si el problema se resolvió con éxito\n",
    "print('Valor objetivo:', lp.value(problema.objective))\n",
    "print('Valores de las variables:')\n",
    "for i in I:\n",
    "    print(f'{i}: {x[i].varValue}')\n"
   ]
  }
 ],
 "metadata": {
  "kernelspec": {
   "display_name": "Python 3",
   "language": "python",
   "name": "python3"
  },
  "language_info": {
   "codemirror_mode": {
    "name": "ipython",
    "version": 3
   },
   "file_extension": ".py",
   "mimetype": "text/x-python",
   "name": "python",
   "nbconvert_exporter": "python",
   "pygments_lexer": "ipython3",
   "version": "3.12.4"
  }
 },
 "nbformat": 4,
 "nbformat_minor": 2
}
