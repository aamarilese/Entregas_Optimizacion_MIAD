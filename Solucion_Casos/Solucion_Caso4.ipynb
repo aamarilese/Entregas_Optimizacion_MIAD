{
 "cells": [
  {
   "cell_type": "markdown",
   "metadata": {
    "deletable": false,
    "editable": false,
    "nbgrader": {
     "cell_type": "markdown",
     "checksum": "a001eeca157a99134e75321a2f012aee",
     "grade": false,
     "grade_id": "cell-e8fa9269aba80c31",
     "locked": true,
     "schema_version": 3,
     "solution": false,
     "task": false
    },
    "tags": []
   },
   "source": [
    "# Caso 4: Selección y Programación de Proyectos II \n",
    "\n",
    "---\n",
    "## Maestría en Inteligencia Analítica de Datos\n"
   ]
  },
  {
   "cell_type": "markdown",
   "metadata": {
    "deletable": false,
    "editable": false,
    "nbgrader": {
     "cell_type": "markdown",
     "checksum": "0cf85f032e4112df12c808b8a1a24077",
     "grade": false,
     "grade_id": "cell-056812357650677f",
     "locked": true,
     "schema_version": 3,
     "solution": false,
     "task": false
    }
   },
   "source": [
    "## Instrucciones generales\n",
    "\n",
    "El primer paso antes de resolver este laboratorio es leer y entender el **enunciado del caso**. Una vez tengas claro el caso, te explicamos la estructura de este laboratorio (los demás laboratorios siguen una estructura similar). \n",
    "\n",
    "Este laboratorio tiene las siguientes secciones: \n",
    "* **Formulación**: un breve resumen del modelo con notación matemática y descripción de sus componentes\n",
    "* **Importación de librerías**\n",
    "* **Creación de parámetros**\n",
    "* **Modelado**: aquí implementamos el modelo visto en la formulación (aquí encontrarás por lo general celdas de código que debes completar, ¡nosotros te guiaremos en el proceso!)\n",
    "* **Reporte de resultados**: esta sección nos muestra las soluciones encontradas por el modelo y, en ocasiones, algunas visualizaciones interesantes para entenderlo mejor. (es posible que en ciertas prácticas debas completar algunas celdas también)\n",
    "\n",
    "Este tipo de actividades se evaluará sobre un total de 100 puntos. Las celdas calificables se distinguen por tener la instrucción `# your code here`. Antes de estas celdas  encontrarás instrucciones y consejos para resolver las preguntas, también el puntaje que le corresponde. **Ten en cuenta que si no sigues las instrucciones al pie de la letra, no obtendrás el puntaje. Por ejemplo, debes llamar a las variables en Python y nombrar los elementos de tu modelo exactamente cómo lo indica el enunciado. De lo contrario, no obtendrás puntaje en ese inciso.** \n",
    "\n",
    "¡Éxitos!"
   ]
  },
  {
   "cell_type": "markdown",
   "metadata": {
    "deletable": false,
    "editable": false,
    "nbgrader": {
     "cell_type": "markdown",
     "checksum": "ef327c5cb6281bdf42f80c4ea7a6242d",
     "grade": false,
     "grade_id": "cell-9fbd2d9c824c07a3",
     "locked": true,
     "schema_version": 3,
     "solution": false,
     "task": false
    },
    "tags": []
   },
   "source": [
    "## Formulación\n",
    "---\n",
    "\n",
    "Te presentamos la formulación del caso de la semana de forma resumida. Te recomendamos revisar la formulación una vez hayas leído el enunciado del caso. Es bueno que te familiarices con los elementos de la formulación antes de iniciar la implementación.\n",
    "\n",
    "### Conjuntos y parámetros\n",
    ">#### **Conjuntos**\n",
    ">* $P$: conjunto de pozos candidatos\n",
    ">* $T$: conjunto de periodos (años) en el horizonte de planeación\n",
    "\n",
    ">#### **Parámetros**\n",
    ">* $n$: máximo número de pozos a perforar en el horizonte de planeación\n",
    ">* $b$: presupuesto total de la compañía para la realización de proyectos (millones de USD)\n",
    ">* $s$: número de operarios disponibles por año\n",
    ">* $u$: número de generadores disponibles por año\n",
    ">* $p_i$: promedio diario (miles de barriles) de crudo producido en el pozo $i\\in P$\n",
    ">* $o_i$: número de operarios requeridos para perforar el pozo $i\\in P$\n",
    ">* $g_i$: número generadores requeridos para perforar el pozo $i\\in P$\n",
    ">* $m_t$: meta de producción (miles de barriles) promedio diario para el año $t\\in T$\n",
    ">* $v_{it}$: utilidad por perforar el pozo $i\\in P$ en el año $t\\in T$ (millones de USD)\n",
    ">* $c_{it}$: costo por perforar el pozo $i\\in P$ en el año $t\\in T$ (millones de USD)\n",
    "\n",
    "\n",
    "### Variables de decisión\n",
    "> $x_{it} = \\begin{cases}1, & \\text{si el pozo} \\, i\\in P \\text{ se perfora en el año} \\, t\\in T \\\\ 0, & \\text{de lo contrario}\\end{cases}$\n",
    "\n",
    "### Restricciones\n",
    "> 1. Un proyecto se hace máximo una vez dentro del horizonte de planeación\n",
    ">> $\\sum_{t\\in T}x_{it} \\, \\leq \\, 1, \\; \\forall i\\in P$\n",
    "> 2. La inversión total no puede superar el presupuesto\n",
    ">>$\\sum_{i\\in P}\\sum_{t\\in T}c_{it}x_{it} \\, \\leq \\, b$\n",
    "> 3. Las metas de producción (en miles de barriles diarios) deben ser cumplidas\n",
    ">>$\\sum_{i\\in P}p_i x_{it} \\, \\geq \\, m_t \\; \\forall t\\in T$\n",
    "> 4. No se debe exceder la cantidad de operarios disponibles\n",
    ">> $\\sum_{i\\in P}o_i x_{it} \\leq s, \\;\\; \\forall t\\in T$\n",
    "> 5. No se debe exceder la cantidad de generadores disponibles\n",
    ">> $\\sum_{i\\in P}g_i x_{it} \\leq u, \\;\\; \\forall t\\in T$\n",
    "> 6. No se debe exceder la cantidad de pozos perforados impuesta por el gobierno\n",
    ">> $\\sum_{i\\in P}\\sum_{t\\in T}x_{it} \\, \\leq \\, n$\n",
    ">\n",
    "> **Naturaleza de las variables**\n",
    ">> $x_{it} \\in \\{0,1\\}, \\; \\forall i\\in P, t\\in T$\n",
    ">\n",
    ">#### Nuevas restricciones\n",
    "> 7. Petroco tendrá disponibles 5 millones USD para invertir en la perforación de pozos cada año. El dinero que no sea invertido estará disponible para la operación de los siguientes años. Adicionalmente, la junta directiva ha aprobado que el 5% de las utilidades de un año sean reinvertidas en los años siguientes.\n",
    ">\n",
    ">> A. Inventario del primer periodo\n",
    ">>> $I_1 = 5 - \\sum_{i\\in P}c_{i,1}x_{i,1}$\n",
    ">\n",
    ">> B. Inventario de los siguientes periodos\n",
    ">>> *# Para desarrollo del estudiante*\n",
    ">\n",
    ">> **Naturaleza de las variables**\n",
    ">>> $I_t$: presupuesto (en millones de USD) que queda para invertir en periodos siguientes, al final del año $t\\in T$\n",
    ">>> $I_t \\geq 0, \\; \\forall t\\in T$\n",
    ">\n",
    "> 8. Petroco tiene la opción de no cumplir las metas de producción sujeto a una penalización. Por cada 1,000 barriles que no se produzcan de la meta diaria a lo largo del año, Petroco deberá pagar anualmente 17 millones USD.\n",
    ">\n",
    ">> Nueva funcion objetivo\n",
    ">>> *# Para desarrollo del estudiante*\n",
    ">\n",
    ">> A. Nueva restricción de metas de producción\n",
    ">>> *# Para desarrollo del estudiante*\n",
    ">\n",
    ">> **Naturaleza de las variables**\n",
    ">>> $m_t^-$: cantidad (en miles de barriles promedio diarios) de crudo por la cual se incumplió la meta del año $t\\in T$\n",
    ">>> $m_t^- \\geq 0, \\; \\forall t\\in T$\n",
    ">\n",
    "> 9. La Vicepresidencia ha decidido entrenar nuevos operarios en cada año, esto se debe reflejar en los operarios utilizados.\n",
    ">> $d_t$: operarios disponibles en el año $t\\in T$\n",
    ">>\n",
    ">>> *# Para desarrollo del estudiante*\n",
    "\n",
    "\n",
    "### Función objetivo\n",
    "> Maximizar la utilidad total\n",
    ">> $\\max \\; \\sum_{i\\in P}\\sum_{t\\in T}v_{it}x_{it}$"
   ]
  },
  {
   "cell_type": "markdown",
   "metadata": {
    "deletable": false,
    "editable": false,
    "nbgrader": {
     "cell_type": "markdown",
     "checksum": "d2a894af9cffbb75dbfd7e5ec5ce9f59",
     "grade": false,
     "grade_id": "cell-db31881de45215f2",
     "locked": true,
     "schema_version": 3,
     "solution": false,
     "task": false
    },
    "tags": []
   },
   "source": [
    "## Importación de librerías\n",
    "---\n",
    "Antes de empezar, es necesario importar los paquetes que vamos a utilizar durante la práctica:\n",
    "* El paquete `pulp` permite crear modelos de optimización, crear variables, añadir restricciones y muchos más. Le asignamos el alias de `lp`.\n",
    "* El paquete `pandas` es muy útil para el análisis de datos en general. Le asignamos el alias de `pd`.\n",
    "* El paquete `matplotlib.pyplot` es muy útil para gráficar. Le asignamos el alias de `plt`.\n",
    "\n",
    "A lo largo del código, puedes corroborar que se usan estos paquetes cuando veas un objeto o método que empiece con los alias `lp`, `pd` o `plt`."
   ]
  },
  {
   "cell_type": "code",
   "execution_count": null,
   "metadata": {
    "deletable": false,
    "editable": false,
    "nbgrader": {
     "cell_type": "code",
     "checksum": "6aa40e6ce923f500b7fe556315de6662",
     "grade": false,
     "grade_id": "cell-8e960069c708e13f",
     "locked": true,
     "schema_version": 3,
     "solution": false,
     "task": false
    },
    "tags": []
   },
   "outputs": [],
   "source": [
    "import matplotlib.pyplot as plt\n",
    "import pandas as pd\n",
    "import pulp as lp\n",
    "\n",
    "%config InlineBackend.figure_format='retina'\n",
    "plt.style.use('seaborn')"
   ]
  },
  {
   "cell_type": "markdown",
   "metadata": {
    "deletable": false,
    "editable": false,
    "nbgrader": {
     "cell_type": "markdown",
     "checksum": "dfc0f6b396fbbc2ea0135eeed1725dba",
     "grade": false,
     "grade_id": "cell-685b1f71ce44c0b0",
     "locked": true,
     "schema_version": 3,
     "solution": false,
     "task": false
    },
    "tags": []
   },
   "source": [
    "## Creación de conjuntos y parámetros\n",
    "---"
   ]
  },
  {
   "cell_type": "markdown",
   "metadata": {
    "deletable": false,
    "editable": false,
    "nbgrader": {
     "cell_type": "markdown",
     "checksum": "9e9fc7c05f51300c1f563693a91c16b2",
     "grade": false,
     "grade_id": "cell-139d636ca944c8b5",
     "locked": true,
     "schema_version": 3,
     "solution": false,
     "task": false
    }
   },
   "source": [
    "### Conjuntos\n",
    "\n",
    "Para el Caso 4, usaremos los mismos conjuntos del Caso 3"
   ]
  },
  {
   "cell_type": "code",
   "execution_count": 2,
   "metadata": {
    "deletable": false,
    "editable": false,
    "nbgrader": {
     "cell_type": "code",
     "checksum": "ae53fb49f250ef2416304afdf6f4ef27",
     "grade": false,
     "grade_id": "cell-c957b1754670e292",
     "locked": true,
     "schema_version": 3,
     "solution": false,
     "task": false
    }
   },
   "outputs": [],
   "source": [
    "# Conjunto de pozos\n",
    "Pozos = [\n",
    "    \"DELE B-1\",\n",
    "    \"EL MORRO-1\",\n",
    "    \"FLORENA A-5\",\n",
    "    \"FLORENA C-6\",\n",
    "    \"FLORENA N-2\",\n",
    "    \"FLORENA N-4 ST\",\n",
    "    \"FLORENA-T8\",\n",
    "    \"PAUTO J-6\",\n",
    "    \"PAUTO M4\",\n",
    "    \"PAUTO M-5\",\n",
    "    \"PAUTO SUR B-1\",\n",
    "    \"PAUTO SUR C-2\",\n",
    "    \"PAUTO-1\",\n",
    "    \"VOLCANERA A-1\",\n",
    "    \"VOLCANERA C-2\",\n",
    "]\n",
    "\n",
    "# Conjunto de años\n",
    "Tiempos = range(1, 11)  # No incluye 11\n",
    "\n",
    "# Conjunto de tuplas (pozo, año)\n",
    "Pozo_x_Tiempo = [(i, t) for i in Pozos for t in Tiempos]"
   ]
  },
  {
   "cell_type": "markdown",
   "metadata": {
    "deletable": false,
    "editable": false,
    "nbgrader": {
     "cell_type": "markdown",
     "checksum": "9c43fb85dd2416adfb3f6372859c4b04",
     "grade": false,
     "grade_id": "cell-1f708cd5f28d33b1",
     "locked": true,
     "schema_version": 3,
     "solution": false,
     "task": false
    }
   },
   "source": [
    "### Parámetros"
   ]
  },
  {
   "cell_type": "code",
   "execution_count": 3,
   "metadata": {
    "deletable": false,
    "editable": false,
    "nbgrader": {
     "cell_type": "code",
     "checksum": "fbf721dda1ec5604240223124c46e8f9",
     "grade": false,
     "grade_id": "cell-deee949a6bafd760",
     "locked": true,
     "schema_version": 3,
     "solution": false,
     "task": false
    },
    "tags": []
   },
   "outputs": [],
   "source": [
    "# Parámetros no indexados\n",
    "presupuesto = 120  # Presupuesto máximo\n",
    "maxProyectos = 12  # Máximo número de proyectos a realizar - restricción ambiental\n",
    "maxOperarios = 6  # Máximo número de operarios por año\n",
    "maxGeneradores = 6  # Máximo número de generadores por año\n",
    "\n",
    "# Parámetros indexados en años\n",
    "metas = {  # tiempo: meta (miles de barriles por día)\n",
    "    1: 3,\n",
    "    2: 4,\n",
    "    3: 5,\n",
    "    4: 4,\n",
    "    5: 5,\n",
    "    6: 3,\n",
    "    7: 5,\n",
    "    8: 4,\n",
    "    9: 4,\n",
    "    10: 6,\n",
    "}\n",
    "\n",
    "# Parámetros indexados en los pozos (abajo se separan en diccionarios diferentes)\n",
    "dataPozos = {  # pozo: prod.minima, prod.moda, prod.máxima, operarios, generadores\n",
    "    \"DELE B-1\": [1, 3, 4, 3, 3],\n",
    "    \"EL MORRO-1\": [3, 4, 6, 2, 3],\n",
    "    \"FLORENA A-5\": [3, 6, 7, 4, 2],\n",
    "    \"FLORENA C-6\": [1, 3, 6, 4, 3],\n",
    "    \"FLORENA N-2\": [4, 6, 10, 3, 2],\n",
    "    \"FLORENA N-4 ST\": [1, 4, 6, 4, 3],\n",
    "    \"FLORENA-T8\": [2, 4, 8, 2, 2],\n",
    "    \"PAUTO J-6\": [2, 3, 5, 3, 2],\n",
    "    \"PAUTO M4\": [3, 5, 7, 3, 3],\n",
    "    \"PAUTO M-5\": [1, 4, 8, 4, 2],\n",
    "    \"PAUTO SUR B-1\": [4, 5, 7, 2, 4],\n",
    "    \"PAUTO SUR C-2\": [4, 6, 8, 3, 3],\n",
    "    \"PAUTO-1\": [3, 5, 8, 3, 2],\n",
    "    \"VOLCANERA A-1\": [4, 5, 9, 2, 3],\n",
    "    \"VOLCANERA C-2\": [2, 5, 7, 2, 2],\n",
    "}\n",
    "\n",
    "# Parámetros indexados en los pozos y los años (abajo se separan en diccionarios diferentes)\n",
    "dataPozoAño = {  # (pozo, año):   costo utilidad\n",
    "    (\"DELE B-1\", 1): [13, 14],\n",
    "    (\"EL MORRO-1\", 1): [21, 81],\n",
    "    (\"FLORENA A-5\", 1): [8, 81],\n",
    "    (\"FLORENA C-6\", 1): [7, 93],\n",
    "    (\"FLORENA N-2\", 1): [3, 26],\n",
    "    (\"FLORENA N-4 ST\", 1): [23, 77],\n",
    "    (\"FLORENA-T8\", 1): [6, 88],\n",
    "    (\"PAUTO J-6\", 1): [2, 13],\n",
    "    (\"PAUTO M4\", 1): [9, 57],\n",
    "    (\"PAUTO M-5\", 1): [12, 34],\n",
    "    (\"PAUTO SUR B-1\", 1): [2, 10],\n",
    "    (\"PAUTO SUR C-2\", 1): [21, 20],\n",
    "    (\"PAUTO-1\", 1): [12, 43],\n",
    "    (\"VOLCANERA A-1\", 1): [16, 51],\n",
    "    (\"VOLCANERA C-2\", 1): [22, 44],\n",
    "    (\"DELE B-1\", 2): [25, 55],\n",
    "    (\"EL MORRO-1\", 2): [9, 54],\n",
    "    (\"FLORENA A-5\", 2): [15, 70],\n",
    "    (\"FLORENA C-6\", 2): [14, 40],\n",
    "    (\"FLORENA N-2\", 2): [23, 65],\n",
    "    (\"FLORENA N-4 ST\", 2): [5, 55],\n",
    "    (\"FLORENA-T8\", 2): [10, 24],\n",
    "    (\"PAUTO J-6\", 2): [23, 92],\n",
    "    (\"PAUTO M4\", 2): [10, 58],\n",
    "    (\"PAUTO M-5\", 2): [3, 26],\n",
    "    (\"PAUTO SUR B-1\", 2): [16, 72],\n",
    "    (\"PAUTO SUR C-2\", 2): [11, 39],\n",
    "    (\"PAUTO-1\", 2): [2, 57],\n",
    "    (\"VOLCANERA A-1\", 2): [15, 51],\n",
    "    (\"VOLCANERA C-2\", 2): [8, 45],\n",
    "    (\"DELE B-1\", 3): [17, 74],\n",
    "    (\"EL MORRO-1\", 3): [22, 23],\n",
    "    (\"FLORENA A-5\", 3): [12, 44],\n",
    "    (\"FLORENA C-6\", 3): [11, 31],\n",
    "    (\"FLORENA N-2\", 3): [7, 53],\n",
    "    (\"FLORENA N-4 ST\", 3): [12, 71],\n",
    "    (\"FLORENA-T8\", 3): [12, 80],\n",
    "    (\"PAUTO J-6\", 3): [17, 22],\n",
    "    (\"PAUTO M4\", 3): [14, 59],\n",
    "    (\"PAUTO M-5\", 3): [15, 34],\n",
    "    (\"PAUTO SUR B-1\", 3): [24, 88],\n",
    "    (\"PAUTO SUR C-2\", 3): [25, 61],\n",
    "    (\"PAUTO-1\", 3): [8, 46],\n",
    "    (\"VOLCANERA A-1\", 3): [14, 33],\n",
    "    (\"VOLCANERA C-2\", 3): [17, 15],\n",
    "    (\"DELE B-1\", 4): [19, 75],\n",
    "    (\"EL MORRO-1\", 4): [6, 70],\n",
    "    (\"FLORENA A-5\", 4): [23, 18],\n",
    "    (\"FLORENA C-6\", 4): [16, 36],\n",
    "    (\"FLORENA N-2\", 4): [14, 44],\n",
    "    (\"FLORENA N-4 ST\", 4): [18, 34],\n",
    "    (\"FLORENA-T8\", 4): [6, 22],\n",
    "    (\"PAUTO J-6\", 4): [20, 30],\n",
    "    (\"PAUTO M4\", 4): [5, 93],\n",
    "    (\"PAUTO M-5\", 4): [7, 68],\n",
    "    (\"PAUTO SUR B-1\", 4): [25, 12],\n",
    "    (\"PAUTO SUR C-2\", 4): [13, 75],\n",
    "    (\"PAUTO-1\", 4): [12, 56],\n",
    "    (\"VOLCANERA A-1\", 4): [10, 16],\n",
    "    (\"VOLCANERA C-2\", 4): [6, 11],\n",
    "    (\"DELE B-1\", 5): [7, 54],\n",
    "    (\"EL MORRO-1\", 5): [8, 58],\n",
    "    (\"FLORENA A-5\", 5): [22, 15],\n",
    "    (\"FLORENA C-6\", 5): [17, 29],\n",
    "    (\"FLORENA N-2\", 5): [20, 95],\n",
    "    (\"FLORENA N-4 ST\", 5): [17, 32],\n",
    "    (\"FLORENA-T8\", 5): [10, 91],\n",
    "    (\"PAUTO J-6\", 5): [6, 29],\n",
    "    (\"PAUTO M4\", 5): [6, 72],\n",
    "    (\"PAUTO M-5\", 5): [25, 91],\n",
    "    (\"PAUTO SUR B-1\", 5): [21, 95],\n",
    "    (\"PAUTO SUR C-2\", 5): [15, 63],\n",
    "    (\"PAUTO-1\", 5): [17, 64],\n",
    "    (\"VOLCANERA A-1\", 5): [12, 54],\n",
    "    (\"VOLCANERA C-2\", 5): [17, 19],\n",
    "    (\"DELE B-1\", 6): [10, 84],\n",
    "    (\"EL MORRO-1\", 6): [13, 48],\n",
    "    (\"FLORENA A-5\", 6): [9, 10],\n",
    "    (\"FLORENA C-6\", 6): [25, 32],\n",
    "    (\"FLORENA N-2\", 6): [17, 92],\n",
    "    (\"FLORENA N-4 ST\", 6): [25, 21],\n",
    "    (\"FLORENA-T8\", 6): [5, 62],\n",
    "    (\"PAUTO J-6\", 6): [23, 28],\n",
    "    (\"PAUTO M4\", 6): [22, 87],\n",
    "    (\"PAUTO M-5\", 6): [7, 97],\n",
    "    (\"PAUTO SUR B-1\", 6): [25, 88],\n",
    "    (\"PAUTO SUR C-2\", 6): [19, 88],\n",
    "    (\"PAUTO-1\", 6): [4, 66],\n",
    "    (\"VOLCANERA A-1\", 6): [6, 32],\n",
    "    (\"VOLCANERA C-2\", 6): [5, 2],\n",
    "    (\"DELE B-1\", 7): [12, 94],\n",
    "    (\"EL MORRO-1\", 7): [3, 45],\n",
    "    (\"FLORENA A-5\", 7): [19, 15],\n",
    "    (\"FLORENA C-6\", 7): [4, 40],\n",
    "    (\"FLORENA N-2\", 7): [6, 103],\n",
    "    (\"FLORENA N-4 ST\", 7): [21, 9],\n",
    "    (\"FLORENA-T8\", 7): [13, 63],\n",
    "    (\"PAUTO J-6\", 7): [8, 25],\n",
    "    (\"PAUTO M4\", 7): [15, 94],\n",
    "    (\"PAUTO M-5\", 7): [8, 113],\n",
    "    (\"PAUTO SUR B-1\", 7): [10, 99],\n",
    "    (\"PAUTO SUR C-2\", 7): [12, 100],\n",
    "    (\"PAUTO-1\", 7): [3, 70],\n",
    "    (\"VOLCANERA A-1\", 7): [12, 29],\n",
    "    (\"VOLCANERA C-2\", 7): [7, 13],\n",
    "    (\"DELE B-1\", 8): [23, 104],\n",
    "    (\"EL MORRO-1\", 8): [13, 42],\n",
    "    (\"FLORENA A-5\", 8): [16, 21],\n",
    "    (\"FLORENA C-6\", 8): [7, 48],\n",
    "    (\"FLORENA N-2\", 8): [4, 94],\n",
    "    (\"FLORENA N-4 ST\", 8): [11, 5],\n",
    "    (\"FLORENA-T8\", 8): [20, 63],\n",
    "    (\"PAUTO J-6\", 8): [15, 22],\n",
    "    (\"PAUTO M4\", 8): [22, 100],\n",
    "    (\"PAUTO M-5\", 8): [21, 129],\n",
    "    (\"PAUTO SUR B-1\", 8): [19, 110],\n",
    "    (\"PAUTO SUR C-2\", 8): [14, 113],\n",
    "    (\"PAUTO-1\", 8): [15, 74],\n",
    "    (\"VOLCANERA A-1\", 8): [8, 27],\n",
    "    (\"VOLCANERA C-2\", 8): [19, 20],\n",
    "    (\"DELE B-1\", 9): [8, 114],\n",
    "    (\"EL MORRO-1\", 9): [23, 39],\n",
    "    (\"FLORENA A-5\", 9): [2, 25],\n",
    "    (\"FLORENA C-6\", 9): [23, 56],\n",
    "    (\"FLORENA N-2\", 9): [23, 87],\n",
    "    (\"FLORENA N-4 ST\", 9): [20, 10],\n",
    "    (\"FLORENA-T8\", 9): [11, 63],\n",
    "    (\"PAUTO J-6\", 9): [20, 19],\n",
    "    (\"PAUTO M4\", 9): [8, 107],\n",
    "    (\"PAUTO M-5\", 9): [15, 144],\n",
    "    (\"PAUTO SUR B-1\", 9): [12, 121],\n",
    "    (\"PAUTO SUR C-2\", 9): [6, 120],\n",
    "    (\"PAUTO-1\", 9): [2, 78],\n",
    "    (\"VOLCANERA A-1\", 9): [5, 33],\n",
    "    (\"VOLCANERA C-2\", 9): [25, 24],\n",
    "    (\"DELE B-1\", 10): [14, 124],\n",
    "    (\"EL MORRO-1\", 10): [19, 36],\n",
    "    (\"FLORENA A-5\", 10): [22, 32],\n",
    "    (\"FLORENA C-6\", 10): [13, 50],\n",
    "    (\"FLORENA N-2\", 10): [20, 80],\n",
    "    (\"FLORENA N-4 ST\", 10): [16, 8],\n",
    "    (\"FLORENA-T8\", 10): [9, 64],\n",
    "    (\"PAUTO J-6\", 10): [7, 16],\n",
    "    (\"PAUTO M4\", 10): [15, 113],\n",
    "    (\"PAUTO M-5\", 10): [10, 160],\n",
    "    (\"PAUTO SUR B-1\", 10): [5, 132],\n",
    "    (\"PAUTO SUR C-2\", 10): [2, 115],\n",
    "    (\"PAUTO-1\", 10): [16, 82],\n",
    "    (\"VOLCANERA A-1\", 10): [25, 40],\n",
    "    (\"VOLCANERA C-2\", 10): [18, 32],\n",
    "}\n",
    "\n",
    "# Separando datos en diccionarios independientes (comparten las misma llaves)\n",
    "(prodMin, prodModa, prodMax, operarios, generadores) = lp.splitDict(dataPozos)\n",
    "(costo, utilidad) = lp.splitDict(dataPozoAño)"
   ]
  },
  {
   "cell_type": "markdown",
   "metadata": {
    "deletable": false,
    "editable": false,
    "nbgrader": {
     "cell_type": "markdown",
     "checksum": "009575ea03143cde1dab01eaa1ec01e8",
     "grade": false,
     "grade_id": "cell-587d11a8eb6313b7",
     "locked": true,
     "schema_version": 3,
     "solution": false,
     "task": false
    }
   },
   "source": [
    "**Celda de prueba (0 puntos)**\n",
    "\n",
    "Es una buena práctica imprimir algunos objetos que contienen los parámetros en la consola luego de crearlos. De esta forma puedes corregir errores y familiarizarte con las estrucutras de datos que se van a utilizar. Puedes hacer estas pruebas en la celda a continuación.\n",
    "\n",
    "* **Esta celda no es calificable**"
   ]
  },
  {
   "cell_type": "markdown",
   "metadata": {
    "deletable": false,
    "editable": false,
    "nbgrader": {
     "cell_type": "markdown",
     "checksum": "c4dd3c4455cf458fb1ea62d106d31f22",
     "grade": false,
     "grade_id": "cell-6a54ae7e4899ef1",
     "locked": true,
     "schema_version": 3,
     "solution": false,
     "task": false
    },
    "tags": []
   },
   "source": [
    "## Modelado\n",
    "---"
   ]
  },
  {
   "cell_type": "markdown",
   "metadata": {
    "deletable": false,
    "editable": false,
    "nbgrader": {
     "cell_type": "markdown",
     "checksum": "4147917a9b6562a3f5cd55ae3c2b0ba1",
     "grade": false,
     "grade_id": "cell-6a525ae7e4899ef1",
     "locked": true,
     "schema_version": 3,
     "solution": false,
     "task": false
    },
    "tags": []
   },
   "source": [
    "### Caso base\n",
    "\n",
    "Esta práctica computacional tiene algo diferente a las demás. Queremos probrar varios modelos de optimización usando una estructura similar, pero añadiendo y removiendo algunas restricciones en cada variante. En primer lugar, plantearemos el **caso base** que incluye las restricciones y variables originales del problema. Una vez terminado el **caso base**, procederemos a crear las restricciones y variables adicionales.\n",
    "\n",
    "**Importante**: dado que PuLP no permite sobreescribir restricciones, para crear las diferentes variantes del **caso base** deberás crear el modelo desde el principio e ir añadiendo sólo las restricciones que corresponden a cada variante. Sin embargo, cuando vayamos a calificar esta práctica, nosotros nos encargaremos de correrla en el orden correcto. ¡Tú solo debes seguir las intrucciones de cada pregunta!"
   ]
  },
  {
   "cell_type": "markdown",
   "metadata": {
    "deletable": false,
    "editable": false,
    "nbgrader": {
     "cell_type": "markdown",
     "checksum": "32046f7ed4b359dfe697449072da98c0",
     "grade": false,
     "grade_id": "cell-ebebd9c7c932a295",
     "locked": true,
     "schema_version": 3,
     "solution": false,
     "task": false
    }
   },
   "source": [
    "### Declaración del modelo"
   ]
  },
  {
   "cell_type": "markdown",
   "metadata": {
    "deletable": false,
    "editable": false,
    "nbgrader": {
     "cell_type": "markdown",
     "checksum": "fcc460e28fef43e049a849b5f3a7c5dd",
     "grade": false,
     "grade_id": "cell-8516e22fa27f2003",
     "locked": true,
     "schema_version": 3,
     "solution": false,
     "task": false
    }
   },
   "source": [
    "**Pregunta 1 (5 puntos)**\n",
    "* Crea un objeto modelo en PuLP (`lp.LpProblem`) llamado `problema`\n",
    "* Indica el sentido de la optimización: maximizar o minimizar\n",
    "\n",
    "> **Recuerda** que el sentido se indica con el argmuento `sense` en `lp.LpProblem()`, que toma valores `lp.LpMaximize` o `lp.LpMinimize`"
   ]
  },
  {
   "cell_type": "code",
   "execution_count": 40,
   "metadata": {
    "deletable": false,
    "nbgrader": {
     "cell_type": "code",
     "checksum": "524dfaa95902f158265d70d7b13ea006",
     "grade": false,
     "grade_id": "cell-354e5a064254b00d",
     "locked": false,
     "schema_version": 3,
     "solution": true,
     "task": false
    }
   },
   "outputs": [],
   "source": [
    "# your code here\n",
    "problema = lp.LpProblem(sense=lp.LpMaximize) "
   ]
  },
  {
   "cell_type": "markdown",
   "metadata": {
    "deletable": false,
    "editable": false,
    "nbgrader": {
     "cell_type": "markdown",
     "checksum": "c6a294c359fd74f16947ba9aa853fbff",
     "grade": false,
     "grade_id": "cell-032e2c76bf498b03",
     "locked": true,
     "schema_version": 3,
     "solution": false,
     "task": false
    }
   },
   "source": [
    "### Variables de decisión\n",
    "\n",
    ">* $x_{it} = \\begin{cases}1, & \\text{si el pozo} \\, i\\in P \\text{ se perfora en el año} \\, t\\in T \\\\ 0, & \\text{de lo contrario}\\end{cases} $\n"
   ]
  },
  {
   "cell_type": "markdown",
   "metadata": {
    "deletable": false,
    "editable": false,
    "nbgrader": {
     "cell_type": "markdown",
     "checksum": "c770a8d8fb14cf80bc0006673f54046e",
     "grade": false,
     "grade_id": "cell-f65f0518e0ed7f83",
     "locked": true,
     "schema_version": 3,
     "solution": false,
     "task": false
    }
   },
   "source": [
    "**Pregunta 2 (5 puntos)**\n",
    "* Crea las variables del modelo: `x`, usando el método `lp.LpVariable.dicts()`.\n",
    "* Especifica el nombre de las variables como `perforar` con el argumento `name`.\n",
    "* Especifica el conjunto sobre el cual está indexado la variable con el argumento `indexs`. **Ayuda:** puede ser útil la lista `Pozo_x_Tiempo`. \n",
    "* Especifica el tipo de variable con el argumento `cat` (continua: `lp.LpContinuous`, entera: `lp.LpInteger` o binaria: `lp.LpBinary`)"
   ]
  },
  {
   "cell_type": "code",
   "execution_count": 41,
   "metadata": {
    "deletable": false,
    "nbgrader": {
     "cell_type": "code",
     "checksum": "6af97b6f1401f12937c61ebd26ff5784",
     "grade": false,
     "grade_id": "cell-adb2f63eecf97f2a",
     "locked": false,
     "schema_version": 3,
     "solution": true,
     "task": false
    }
   },
   "outputs": [],
   "source": [
    "x = lp.LpVariable.dicts(name ='perforar', indices = Pozo_x_Tiempo, cat=lp.LpBinary)"
   ]
  },
  {
   "cell_type": "markdown",
   "metadata": {
    "deletable": false,
    "editable": false,
    "nbgrader": {
     "cell_type": "markdown",
     "checksum": "b24954e1c5358b2a5cde9683c068bfca",
     "grade": false,
     "grade_id": "cell-747431c6a3556e72",
     "locked": true,
     "schema_version": 3,
     "solution": false,
     "task": false
    }
   },
   "source": [
    "### Función objetivo\n",
    "\n",
    "Maximizar la utilidad total\n",
    "> $\\max \\; \\sum_{i\\in P} \\sum_{t\\in T} v_{it}x_{it}$"
   ]
  },
  {
   "cell_type": "markdown",
   "metadata": {
    "deletable": false,
    "editable": false,
    "nbgrader": {
     "cell_type": "markdown",
     "checksum": "eb649f7ccc5b3e187f1c78b091ce4323",
     "grade": false,
     "grade_id": "cell-b64840b7a4a8e5db",
     "locked": true,
     "schema_version": 3,
     "solution": false,
     "task": false
    }
   },
   "source": [
    "**Pregunta 3 (5 puntos)**\n",
    "* Crea la función objetivo y agrégala al modelo `problema`\n",
    "\n",
    "> **Recuerda** que para agregar una función objetivo o restricción a un modelo en pulp se usa la sintaxis: `<modelo> += <expresion>`\n",
    "\n",
    "> **Recuerda** que una función objetivo en `pulp` consiste en multiplicar variables de tipo `lp.pulp.Variable` (como `x`) por constantes así: `<variable>*<int|float>` y luego sumarlas o restarlas así: `<var1>*<const1> + <var2>*<const2>+...`.\n",
    "\n",
    "> **Recuerda** que, para evitar escribir una sumatoria de muchos términos uno a uno, `pulp` permite crear sumatorias que recorran conjuntos siempre y cuando las variables esten indexadas (como `x`). Para esto, utiliza `lp.lpSum(<expresion> for <indices> in <conjuntos)`. \n",
    "\n",
    "> **Ejemplo**:\n",
    ">> $ \\sum_{i \\in I}c_i x_i$\n",
    "es equivalente a `lp.lpSum(c[i]*x[i] for i in I)`"
   ]
  },
  {
   "cell_type": "code",
   "execution_count": 42,
   "metadata": {
    "deletable": false,
    "nbgrader": {
     "cell_type": "code",
     "checksum": "e8fafcb2f166d56817aa9ac30a2f22b9",
     "grade": false,
     "grade_id": "cell-8dd2dde5b7c44372",
     "locked": false,
     "schema_version": 3,
     "solution": true,
     "task": false
    }
   },
   "outputs": [],
   "source": [
    "problema += lp.lpSum([dataPozoAño[i, t][1] * x[i, t] for (i, t) in Pozo_x_Tiempo])"
   ]
  },
  {
   "cell_type": "markdown",
   "metadata": {
    "deletable": false,
    "editable": false,
    "nbgrader": {
     "cell_type": "markdown",
     "checksum": "f39cefcd49b02056188cd290b2234f64",
     "grade": false,
     "grade_id": "cell-d6fa9f15b71fb4ce",
     "locked": true,
     "schema_version": 3,
     "solution": false,
     "task": false
    }
   },
   "source": [
    "### Restricciones\n",
    "\n",
    "____\n",
    "\n",
    "**Consejos para preguntas 4 a 12**\n",
    "\n",
    "> **Recuerda** que para crear restricciones se debe usar la sintaxis: `<modelo> += <expresion_lado_izq> ==|>=|<= <expresion_lado_der>, 'Nombre_de_la_restriccion'`\n",
    "\n",
    "> **Recuerda** que las expresiones son combinaciones lineales de las variables, como: `<var1>*<const1> + <var2>*<const2>`\n",
    "\n",
    "> **Recuerda** que puedes usar `lp.lpSum()` para crear sumatorias (ver **Pregunta 3**)\n",
    "\n",
    "> **Recuerda** que para crear múltiples restricciones usando $\\forall i \\in I$, se debe utilizar la sintaxis:\n",
    ">>    * `for i in I:` \n",
    ">>       * `<restriccion>`\n",
    "\n",
    "> **Ejemplo**\n",
    ">> La siguiente restricción: $\\sum_{i \\in I} a_{ij} x_{ij} \\geq 1, \\; \\forall j \\in J$ es equivalente a:\n",
    ">>    * `for j in J:`\n",
    ">>        * `model += lp.lpSum((a[i,j]*x[i,j] for i in I)) >= 1, 'R1_'+str(j)`\n",
    "    \n",
    "> **Advertencia**: En `pulp` no es recomendable sobreescribir restricciones, entonces, si ya creaste una restricción y quieres crearla de nuevo para corregir algo, asegurate de volver a crear el modelo `problema` desde el principio. (Nosotros haremos esto antes de calificar, no te preocupes)"
   ]
  },
  {
   "cell_type": "markdown",
   "metadata": {
    "deletable": false,
    "editable": false,
    "nbgrader": {
     "cell_type": "markdown",
     "checksum": "9d30ea0e4f98ae681c077ab5d44db0d2",
     "grade": false,
     "grade_id": "cell-86c8f6a10453dfdb",
     "locked": true,
     "schema_version": 3,
     "solution": false,
     "task": false
    }
   },
   "source": [
    "**Pregunta 4 (5 puntos)**\n",
    "\n",
    "* Crea el siguiente grupo de restricciones, asígnales el nombre `'R1_'+str(<indice_del_para_todo>)` y añádelo al modelo:\n",
    "\n",
    "> 1. Un proyecto se hace máximo una vez dentro del horizonte de planeación\n",
    ">> $\\sum_{t\\in T}x_{it} \\, \\leq \\, 1, \\; \\forall i\\in P$"
   ]
  },
  {
   "cell_type": "code",
   "execution_count": 43,
   "metadata": {
    "deletable": false,
    "nbgrader": {
     "cell_type": "code",
     "checksum": "ea61de9c4b17461f16c537cf3a49908d",
     "grade": false,
     "grade_id": "cell-ccdde61ae7c40e48",
     "locked": false,
     "schema_version": 3,
     "solution": true,
     "task": false
    }
   },
   "outputs": [],
   "source": [
    "for i in Pozos:\n",
    "    problema += lp.lpSum([x[i, t] for t in Tiempos]) <= 1, 'R1_'+str(i)"
   ]
  },
  {
   "cell_type": "markdown",
   "metadata": {
    "deletable": false,
    "editable": false,
    "nbgrader": {
     "cell_type": "markdown",
     "checksum": "22d687133f55df1a695127c7bfe31906",
     "grade": false,
     "grade_id": "cell-96fe008cf9b06b73",
     "locked": true,
     "schema_version": 3,
     "solution": false,
     "task": false
    }
   },
   "source": [
    "**Pregunta 5 (5 puntos)**\n",
    "\n",
    "* Crea la siguiente restricción, asígnale el nombre `'R2'` y añádela al modelo:\n",
    "\n",
    "> 2. La inversión total no puede superar el presupuesto\n",
    ">>$\\sum_{i \\in P}\\sum_{t\\in T}c_{it}x_{it} \\, \\leq \\, b$"
   ]
  },
  {
   "cell_type": "code",
   "execution_count": 44,
   "metadata": {
    "deletable": false,
    "nbgrader": {
     "cell_type": "code",
     "checksum": "3268652c0a65ae3b76b0a18cd9d0cec6",
     "grade": false,
     "grade_id": "cell-b6c3bb06ff5d06be",
     "locked": false,
     "schema_version": 3,
     "solution": true,
     "task": false
    }
   },
   "outputs": [],
   "source": [
    "problema += lp.lpSum([dataPozoAño[i, t][0] * x[i, t] for (i, t) in Pozo_x_Tiempo]) <= presupuesto, 'R2'"
   ]
  },
  {
   "cell_type": "markdown",
   "metadata": {
    "deletable": false,
    "editable": false,
    "nbgrader": {
     "cell_type": "markdown",
     "checksum": "7b3ccdafe3d6e71df06eee325f339fc7",
     "grade": false,
     "grade_id": "cell-bde27939d3333898",
     "locked": true,
     "schema_version": 3,
     "solution": false,
     "task": false
    }
   },
   "source": [
    "**Pregunta 6 (5 puntos)**\n",
    "\n",
    "* Crea el siguiente grupo de restricciones, asígnales el nombre `'R3_'+str(<indice_del_para_todo>)` y añádelo al modelo:\n",
    "\n",
    "> 3. Las metas de producción (en miles de barriles diarios) deben ser cumplidas\n",
    ">>$\\sum_{i\\in P}p_i x_{it} \\, \\geq \\, m_t \\; \\forall t\\in T$\n",
    "\n",
    "> **Recuerda** que el parámetro $p_i$ es el promedio diario (miles de barriles) de crudo producidos en el pozo $i\\in P$. Por esta razón, en la restricción tendrás que usar los parámetros `prodMin`, `prodModa`, y `prodMax` para calcular este promedio. Revisa el vídeo 'Formulación del caso'.   "
   ]
  },
  {
   "cell_type": "code",
   "execution_count": 32,
   "metadata": {
    "deletable": false,
    "nbgrader": {
     "cell_type": "code",
     "checksum": "c30ac9989213f1578dfc3d8b0fc6a770",
     "grade": false,
     "grade_id": "cell-0a7a3b8a02f0e0b8",
     "locked": false,
     "schema_version": 3,
     "solution": true,
     "task": false
    }
   },
   "outputs": [],
   "source": [
    "for t in Tiempos:\n",
    "    problema += lp.lpSum([((prodMin[i] + prodMax[i] + prodModa[i]) / 3) * x[i, t] for i in Pozos]) >= metas[t], 'R3_'+str(t)"
   ]
  },
  {
   "cell_type": "markdown",
   "metadata": {
    "deletable": false,
    "editable": false,
    "nbgrader": {
     "cell_type": "markdown",
     "checksum": "4e70532fee508401f06c735202f6dde3",
     "grade": false,
     "grade_id": "cell-bad95a65c799ba78",
     "locked": true,
     "schema_version": 3,
     "solution": false,
     "task": false
    }
   },
   "source": [
    "**Pregunta 7 (5 puntos)**\n",
    "\n",
    "* Crea el siguiente grupo de restricciones, asígnales el nombre `'R4_'+str(<indice_del_para_todo>)` y añádelo al modelo:\n",
    "\n",
    "> 4. No se debe exceder la cantidad de operarios disponibles\n",
    ">> $\\sum_{i\\in P}o_i x_{it} \\leq s, \\;\\; \\forall t\\in T$"
   ]
  },
  {
   "cell_type": "code",
   "execution_count": 45,
   "metadata": {
    "deletable": false,
    "editable": false,
    "nbgrader": {
     "cell_type": "code",
     "checksum": "03d11507f247517648850990fdf38b1b",
     "grade": false,
     "grade_id": "cell-4c7ddac982ceae30",
     "locked": true,
     "schema_version": 3,
     "solution": false,
     "task": false
    }
   },
   "outputs": [],
   "source": [
    "# Esta instrucción sirve para generar una visualización personalizada de este caso en el Reporte de Resultados\n",
    "# Corre esta celda si no estás analizando el escenario 4 del caso relacionado con el número de operarios\n",
    "caso_operarios = False"
   ]
  },
  {
   "cell_type": "code",
   "execution_count": 46,
   "metadata": {
    "deletable": false,
    "nbgrader": {
     "cell_type": "code",
     "checksum": "b199f0a4ee23610541e18dac1c57f1d1",
     "grade": false,
     "grade_id": "cell-12ca0b7eb2a93a2a",
     "locked": false,
     "schema_version": 3,
     "solution": true,
     "task": false
    }
   },
   "outputs": [],
   "source": [
    "for t in Tiempos:\n",
    "    problema += lp.lpSum([operarios[i] * x[i, t] for i in Pozos]) <= maxOperarios, 'R4_'+str(t)"
   ]
  },
  {
   "cell_type": "markdown",
   "metadata": {
    "deletable": false,
    "editable": false,
    "nbgrader": {
     "cell_type": "markdown",
     "checksum": "40d2677dbfe294de0d13842b928738b0",
     "grade": false,
     "grade_id": "cell-1bed1cfefc5b0e25",
     "locked": true,
     "schema_version": 3,
     "solution": false,
     "task": false
    }
   },
   "source": [
    "**Pregunta 8 (5 puntos)**\n",
    "\n",
    "* Crea el siguiente grupo de restricciones, asígnales el nombre `'R5_'+str(<indice_del_para_todo>)` y añádelo al modelo:\n",
    "\n",
    "> 5. No se debe exceder la cantidad de generadores disponibles\n",
    ">> $\\sum_{i\\in P}g_i x_{it} \\leq u, \\;\\; \\forall t\\in T$"
   ]
  },
  {
   "cell_type": "code",
   "execution_count": 47,
   "metadata": {
    "deletable": false,
    "nbgrader": {
     "cell_type": "code",
     "checksum": "f04625ae8f4277620b14e8764a23d638",
     "grade": false,
     "grade_id": "cell-6e0d0543a8b2758c",
     "locked": false,
     "schema_version": 3,
     "solution": true,
     "task": false
    }
   },
   "outputs": [],
   "source": [
    "for t in Tiempos:\n",
    "    problema += lp.lpSum([generadores[i] * x[i, t] for i in Pozos]) <= maxGeneradores, 'R5_'+str(t)"
   ]
  },
  {
   "cell_type": "markdown",
   "metadata": {
    "deletable": false,
    "editable": false,
    "nbgrader": {
     "cell_type": "markdown",
     "checksum": "1a8b33f420e1a7e53718c46d3d8f91bd",
     "grade": false,
     "grade_id": "cell-1e377c21dc88f88e",
     "locked": true,
     "schema_version": 3,
     "solution": false,
     "task": false
    }
   },
   "source": [
    "**Pregunta 9 (5 puntos)**\n",
    "\n",
    "* Crea la siguiente restricción, asígnale el nombre `'R6'` y añádela al modelo:\n",
    "\n",
    "> 6. No se debe exceder la cantidad de pozos perforados impuesta por el gobierno\n",
    ">> $\\sum_{i\\in P}\\sum_{t\\in T}x_{it} \\, \\leq \\, n$"
   ]
  },
  {
   "cell_type": "code",
   "execution_count": 48,
   "metadata": {
    "deletable": false,
    "nbgrader": {
     "cell_type": "code",
     "checksum": "c03dde00ba681d1dbedcf2c112c6e344",
     "grade": false,
     "grade_id": "cell-b0777f96ebe78bfc",
     "locked": false,
     "schema_version": 3,
     "solution": true,
     "task": false
    }
   },
   "outputs": [],
   "source": [
    "problema += lp.lpSum([x[i, t] for (i, t) in Pozo_x_Tiempo]) <= maxProyectos, 'R6'"
   ]
  },
  {
   "cell_type": "markdown",
   "metadata": {
    "deletable": false,
    "editable": false,
    "nbgrader": {
     "cell_type": "markdown",
     "checksum": "7e4c4dd96cbb9d84bd761efe625b6173",
     "grade": false,
     "grade_id": "cell-df04dc5fe0ea870c",
     "locked": true,
     "schema_version": 3,
     "solution": false,
     "task": false
    }
   },
   "source": [
    "### Nuevas restricciones\n",
    "\n",
    "Las restricciones que vamos a construir a continuación pueden usar nuevas variables, pueden sobreescribir la función objetivo o reemplazar restricciones ya existentes. \n",
    "\n",
    "Para motivos de calificación, sólo debes seguir las instrucciones de cada pregunta y responder en las celdas. Sin embargo, para corroborar cómo cambian las soluciones para las distintas variantes del problema, se deben correr sólo algunas celdas del caso base y algunas de las nuevas restricciones. Cuando completes esta sección y llegues al **Reporte de resultados** te daremos instrucciones adicionales para que corras las celdas en el orden correcto y puedas comprobar las soluciones (esto no afecta la calificación, sólo queremos que experimentes diferentes variantes del problema)"
   ]
  },
  {
   "cell_type": "markdown",
   "metadata": {
    "deletable": false,
    "editable": false,
    "nbgrader": {
     "cell_type": "markdown",
     "checksum": "738b593ea9c94dd9cb5848d7dad2b2e5",
     "grade": false,
     "grade_id": "cell-6be118ba8d07bbea",
     "locked": true,
     "schema_version": 3,
     "solution": false,
     "task": false
    }
   },
   "source": [
    "**Pregunta 10 (20 puntos)**\n",
    "\n",
    "* Crea las variables de inventario `I`, asignando correctamente los índices, naturaleza de variables, límite inferior en 0 y nombre `inventario`. Recuerda que en el método `lp.LpVariable.dicts()` puedes especificar el límite inferior de la variable en `0` con el argumento `lowBound=0` y, además, su naturaleza continua con el argumento `cat=lp.LpContinuous`.\n",
    "* Crea la restricción del primer periodo, asígnale el nombre `'R7A'` y añádela al modelo.\n",
    "* Crea las restricciones de los periodos siguientes, asígnales el nombre `'R7B_'+str(<indice_del_para_todo>)` y añádelas al modelo.\n",
    "\n",
    "> 7. **Para este escenario, Petroco no manejará un presupuesto global**, sino que ahora tendrá disponibles 5 millones USD para invertir en la perforación de pozos cada año. El dinero que no sea invertido estará disponible para la operación de los siguientes años. Adicionalmente, la junta directiva ha aprobado que el 5% de las utilidades de un año sean reinvertidas en los años siguientes.\n",
    ">\n",
    ">> A. Inventario del primer periodo\n",
    ">>> $I_1 = 5 - \\sum_{i\\in P}c_{i,1}x_{i,1}$\n",
    ">\n",
    ">> B. Inventario de los siguientes periodos\n",
    ">>> $I_t = I_{t-1} - \\sum_{i\\in P}c_{i,t}x_{i,t}$ + \n",
    ">\n",
    ">> **Naturaleza de las variables**\n",
    ">>> $I_t$: presupuesto (en millones de USD) que queda para invertir en periodos siguientes, al final del año $t\\in T$\n",
    ">>> $I_t \\geq 0, \\; \\forall t\\in T$\n",
    "\n",
    "**Nota:** al implementar las restricciones de inventario, las variables $I_{t}$ deben ir al lado izquierdo de las expresiones. "
   ]
  },
  {
   "cell_type": "code",
   "execution_count": 37,
   "metadata": {
    "deletable": false,
    "nbgrader": {
     "cell_type": "code",
     "checksum": "9f6af4de69d225c5c158fc1c344e8ebd",
     "grade": false,
     "grade_id": "cell-75002e39032cd6af",
     "locked": false,
     "schema_version": 3,
     "solution": true,
     "task": false
    }
   },
   "outputs": [],
   "source": [
    "# Variable de inventario\n",
    "inventario = lp.LpVariable.dicts(name ='inventario', indices = Tiempos, lowBound=0, cat=lp.LpContinuous)\n",
    "\n",
    "problema += (\n",
    "    inventario[1] == 5 - lp.lpSum(dataPozoAño[i, 1][0] * x[i, 1] for i in Pozos),\n",
    "    'R7A'\n",
    ")\n",
    "\n",
    "# Restricciones para los períodos siguientes\n",
    "for t in Tiempos:\n",
    "    if t > 1:\n",
    "        problema += (\n",
    "            inventario[t] == inventario[t - 1] + 0.05 * lp.lpSum(dataPozoAño[i, t - 1][1] * x[i, t - 1] for i in Pozos)\n",
    "            - lp.lpSum(dataPozoAño[i, t][0] * x[i, t] for i in Pozos),\n",
    "            'R7B_' + str(t),\n",
    "        )"
   ]
  },
  {
   "cell_type": "markdown",
   "metadata": {
    "deletable": false,
    "editable": false,
    "nbgrader": {
     "cell_type": "markdown",
     "checksum": "e554558d6b056a5c2fe3b5a8be47be19",
     "grade": false,
     "grade_id": "cell-124bpda0e0eb9d74",
     "locked": true,
     "schema_version": 3,
     "solution": false,
     "task": false
    }
   },
   "source": [
    "**Pregunta 11 (20 puntos)**\n",
    "\n",
    "* Crea las variables de holgura `m_`, asignando correctamente los índices, naturaleza de variables, límite inferior en 0 y nombre `'holgura'`. Recuerda que en el método `lp.LpVariable.dicts()` puedes especificar el límite inferior de la variable en `0` con el argumento `lowBound=0` y, además, su naturaleza continua con el argumento `cat=lp.LpContinuous`.\n",
    "* Crea la nueva función objetivo del modelo.\n",
    "* Crea las nuevas restricciones de metas de producción, asígnales el nombre `'R8A_'+str(<indice_del_para_todo>)` y añádelas al modelo.\n",
    "\n",
    "> 8. Petroco tiene la opción de no cumplir las metas de producción sujeto a una penalización. Por cada 1,000 barriles que no se produzcan de la meta diaria a lo largo del año, Petroco deberá pagar anualmente 17 millones USD\n",
    ">\n",
    ">> Nueva funcion objetivo\n",
    ">>> *# Para desarrollo del estudiante*\n",
    ">\n",
    ">> A. Nueva restricción de metas de producción\n",
    ">>> *# Para desarrollo del estudiante*\n",
    ">\n",
    ">> **Naturaleza de las variables**\n",
    ">>> $m_t^-$: cantidad (en miles de barriles promedio diarios) de crudo por la cual se incumplió la meta del año $t\\in T$\n",
    ">>> $m_t^- \\geq 0, \\; \\forall t\\in T$\n",
    "\n",
    "> **Recuerda** que para validar si Petroco cumple las metas de producción, se debe utilizar el parámetro $p_{i}$ que corresponde al promedio diario (miles de barriles) de crudo producido en el pozo $i \\in P$. Por esta razón, en la restricción tendrás que usar los parámetros `prodMin`, `prodModa`, y `prodMax` para calcular este promedio.  \n"
   ]
  },
  {
   "cell_type": "code",
   "execution_count": 49,
   "metadata": {
    "deletable": false,
    "nbgrader": {
     "cell_type": "code",
     "checksum": "22ea4569fd09cf5ae3a8d4e7b21cbe89",
     "grade": false,
     "grade_id": "cell-e3c7180e3c967fda",
     "locked": false,
     "schema_version": 3,
     "solution": true,
     "task": false
    }
   },
   "outputs": [],
   "source": [
    "# Variables de decisión\n",
    "m_ = lp.LpVariable.dicts(name ='holgura', indices = Tiempos, lowBound=0, cat=lp.LpContinuous)"
   ]
  },
  {
   "cell_type": "code",
   "execution_count": 50,
   "id": "c8c9f94f",
   "metadata": {},
   "outputs": [
    {
     "name": "stderr",
     "output_type": "stream",
     "text": [
      "c:\\Users\\user\\AppData\\Local\\Programs\\Python\\Python312\\Lib\\site-packages\\pulp\\pulp.py:1780: UserWarning: Overwriting previously set objective.\n",
      "  warnings.warn(\"Overwriting previously set objective.\")\n"
     ]
    }
   ],
   "source": [
    "# Nueva funcion objetivo\n",
    "problema += (\n",
    "    lp.lpSum(dataPozoAño[i, t][1] * x[i, t] for (i, t) in Pozo_x_Tiempo)\n",
    "    - 17 * lp.lpSum(m_[t] for t in Tiempos)\n",
    ")"
   ]
  },
  {
   "cell_type": "code",
   "execution_count": 51,
   "id": "94c513ae",
   "metadata": {},
   "outputs": [],
   "source": [
    "# Restricción de holgura\n",
    "for t in Tiempos:\n",
    "    problema += (\n",
    "        m_[t] == lp.lpSum([((prodMin[i] + prodMax[i] + prodModa[i]) / 3) * x[i, t] for i in Pozos]) - metas[t],\n",
    "        'R8A_' + str(t),\n",
    "    )"
   ]
  },
  {
   "cell_type": "markdown",
   "metadata": {
    "deletable": false,
    "editable": false,
    "nbgrader": {
     "cell_type": "markdown",
     "checksum": "c7152eaf7a8b870503f8fe450d259167",
     "grade": false,
     "grade_id": "cell-324apda0e0eb9d74",
     "locked": true,
     "schema_version": 3,
     "solution": false,
     "task": false
    }
   },
   "source": [
    "**Pregunta 12 (15 puntos)**\n",
    "\n",
    "* Crea el siguiente grupos de restricciones, asígnales el nombre `'R9_'+str(<indice_del_para_todo>)` y añádelo al modelo:\n",
    "\n",
    "> 9. La Vicepresidencia ha decidido entrenar nuevos operarios en cada año, esto se debe reflejar en los operarios utilizados\n",
    ">> $d_t$: operarios disponibles en el año $t\\in T$ (antes eran 6 en cada año)\n",
    ">>\n",
    ">> *# Para desarrollo del estudiante*\n",
    "\n",
    "**Nota:** para estas nuevas restricciones debes usar el parámetro `operariosDisp` directamente (definido a continuación). **No** debes usar el parámetro `maxOperarios`. "
   ]
  },
  {
   "cell_type": "code",
   "execution_count": null,
   "metadata": {
    "deletable": false,
    "editable": false,
    "nbgrader": {
     "cell_type": "code",
     "checksum": "f5dbab1ed74dc6da66643620ed948485",
     "grade": false,
     "grade_id": "cell-cf48bb599989a675",
     "locked": true,
     "schema_version": 3,
     "solution": false,
     "task": false
    }
   },
   "outputs": [],
   "source": [
    "# Nuevos parametros (Creacion de d_t)\n",
    "operariosDisp = {1: 8, 2: 8, 3: 9, 4: 9, 5: 9, 6: 10, 7: 10, 8: 10, 9: 11, 10: 11}\n",
    "# Esta instrucción sirve para generar una visualización personalizada de este escenario en el Reporte de Resultados\n",
    "caso_operarios = True"
   ]
  },
  {
   "cell_type": "code",
   "execution_count": null,
   "metadata": {
    "deletable": false,
    "nbgrader": {
     "cell_type": "code",
     "checksum": "eb1246aa047ba6c9f2c30fd8b4202aec",
     "grade": false,
     "grade_id": "cell-d9761c29ba43e43b",
     "locked": false,
     "schema_version": 3,
     "solution": true,
     "task": false
    }
   },
   "outputs": [],
   "source": [
    "# your code here\n",
    "for t in Tiempos:\n",
    "    problema += lp.lpSum([operarios[i] * x[i, t] for i in Pozos]) <= operariosDisp[t], 'R9_'+str(t)"
   ]
  },
  {
   "cell_type": "markdown",
   "metadata": {
    "deletable": false,
    "editable": false,
    "nbgrader": {
     "cell_type": "markdown",
     "checksum": "ab4bf127d369a2d39f4c10941896327b",
     "grade": false,
     "grade_id": "cell-31445d212bcb279b",
     "locked": true,
     "schema_version": 3,
     "solution": false,
     "task": false
    }
   },
   "source": [
    "### Invocar el optimizador\n",
    "\n",
    "En esta práctica, vamos a correr varias veces el modelo. En **Reporte de resultados** encontrarás las instrucciones."
   ]
  },
  {
   "cell_type": "code",
   "execution_count": 52,
   "metadata": {
    "deletable": false,
    "editable": false,
    "nbgrader": {
     "cell_type": "code",
     "checksum": "81b40dd693a3f27ef94f769e18b58789",
     "grade": false,
     "grade_id": "cell-b924c09dcdd338ad",
     "locked": true,
     "schema_version": 3,
     "solution": false,
     "task": false
    }
   },
   "outputs": [
    {
     "data": {
      "text/plain": [
       "1"
      ]
     },
     "execution_count": 52,
     "metadata": {},
     "output_type": "execute_result"
    }
   ],
   "source": [
    "problema.solve()"
   ]
  },
  {
   "cell_type": "markdown",
   "metadata": {
    "deletable": false,
    "editable": false,
    "nbgrader": {
     "cell_type": "markdown",
     "checksum": "904340410a9207a4131f30008158118c",
     "grade": false,
     "grade_id": "cell-b1766f2e759f8b12",
     "locked": true,
     "schema_version": 3,
     "solution": false,
     "task": false
    },
    "tags": []
   },
   "source": [
    "## Reporte de resultados\n",
    "---\n",
    "Como hemos dicho anteriormente, este problema tiene algunas variantes. Las celdas de esta sección te permiten comprobar y visualizar rápidamente las soluciones. Después de correr (`problema.solve()`) en una variante, puedes venir a esta sección y correr las celdas para comprobar las soluciones!\n",
    "\n",
    "Estas son las variantes del problema:\n",
    "* Caso base: **Preguntas 1 a 9** luego `problema.solve()`\n",
    "  * Para que lo tengas de referencia, el valor de la función objetivo de esta variante es: $1124\n",
    "* Caso con inventarios: **Preguntas 1, 2, 3, 4, 6, 7, 8, 9, 10** luego `problema.solve()`\n",
    "* Caso con metas de producción flexibles: **Preguntas 1, 2, 4, 5, 7, 8, 9 y 11** luego `problema.solve()` \n",
    "* Caso con operarios variables en cada año: **Preguntas 1 a 6, 8, 9 y 12** luego `problema.solve()`"
   ]
  },
  {
   "cell_type": "markdown",
   "metadata": {
    "deletable": false,
    "editable": false,
    "nbgrader": {
     "cell_type": "markdown",
     "checksum": "6aed93c3b3a03d6ae9785cda7926825b",
     "grade": false,
     "grade_id": "cell-1422f3d782be0722",
     "locked": true,
     "schema_version": 3,
     "solution": false,
     "task": false
    }
   },
   "source": [
    "**Estado del optimizador, función objetivo y otros indicadores**"
   ]
  },
  {
   "cell_type": "code",
   "execution_count": 53,
   "metadata": {},
   "outputs": [
    {
     "name": "stdout",
     "output_type": "stream",
     "text": [
      "Estado (optimizador): Optimal\n",
      "\n",
      "Utilidad total = $ 885.6666679700002\n",
      "\n",
      "Inversión total = $ 118.0\n",
      "\n"
     ]
    }
   ],
   "source": [
    "# Imprimir estado final del optimizador\n",
    "print(\"Estado (optimizador):\", lp.LpStatus[problema.status], end=\"\\n\")\n",
    "\n",
    "# Valor óptimo del portafolio de Petroco\n",
    "print(\"\\nUtilidad total = $\", lp.value(problema.objective))\n",
    "\n",
    "# Inversión\n",
    "print(\n",
    "    \"\\nInversión total = $\",\n",
    "    sum(costo[i, t] * lp.value(x[i, t]) for i, t in Pozo_x_Tiempo),\n",
    "    end=\"\\n\\n\",\n",
    ")"
   ]
  },
  {
   "cell_type": "markdown",
   "metadata": {
    "deletable": false,
    "editable": false,
    "nbgrader": {
     "cell_type": "markdown",
     "checksum": "5649ff7a1c06ddd14dacf2a81239efdf",
     "grade": false,
     "grade_id": "cell-0254q0b1f475a1b0",
     "locked": true,
     "schema_version": 3,
     "solution": false,
     "task": false
    }
   },
   "source": [
    "**Pozos a perforar en cada año**"
   ]
  },
  {
   "cell_type": "code",
   "execution_count": 16,
   "metadata": {
    "deletable": false,
    "editable": false,
    "nbgrader": {
     "cell_type": "code",
     "checksum": "71ecb71b66247262c42f33cff995c45f",
     "grade": false,
     "grade_id": "cell-ar28a5b62394b3cb",
     "locked": true,
     "schema_version": 3,
     "solution": false,
     "task": false
    }
   },
   "outputs": [
    {
     "data": {
      "text/html": [
       "<div>\n",
       "<style scoped>\n",
       "    .dataframe tbody tr th:only-of-type {\n",
       "        vertical-align: middle;\n",
       "    }\n",
       "\n",
       "    .dataframe tbody tr th {\n",
       "        vertical-align: top;\n",
       "    }\n",
       "\n",
       "    .dataframe thead th {\n",
       "        text-align: right;\n",
       "    }\n",
       "</style>\n",
       "<table border=\"1\" class=\"dataframe\">\n",
       "  <thead>\n",
       "    <tr style=\"text-align: right;\">\n",
       "      <th></th>\n",
       "      <th>Produccion</th>\n",
       "      <th>Operarios</th>\n",
       "      <th>Generadores</th>\n",
       "    </tr>\n",
       "    <tr>\n",
       "      <th>Año</th>\n",
       "      <th></th>\n",
       "      <th></th>\n",
       "      <th></th>\n",
       "    </tr>\n",
       "  </thead>\n",
       "  <tbody>\n",
       "    <tr>\n",
       "      <th>1</th>\n",
       "      <td>3.3</td>\n",
       "      <td>4.0</td>\n",
       "      <td>3.0</td>\n",
       "    </tr>\n",
       "    <tr>\n",
       "      <th>2</th>\n",
       "      <td>5.3</td>\n",
       "      <td>4.0</td>\n",
       "      <td>2.0</td>\n",
       "    </tr>\n",
       "    <tr>\n",
       "      <th>3</th>\n",
       "      <td>5.3</td>\n",
       "      <td>3.0</td>\n",
       "      <td>2.0</td>\n",
       "    </tr>\n",
       "    <tr>\n",
       "      <th>4</th>\n",
       "      <td>4.3</td>\n",
       "      <td>2.0</td>\n",
       "      <td>3.0</td>\n",
       "    </tr>\n",
       "    <tr>\n",
       "      <th>5</th>\n",
       "      <td>6.0</td>\n",
       "      <td>2.0</td>\n",
       "      <td>3.0</td>\n",
       "    </tr>\n",
       "    <tr>\n",
       "      <th>6</th>\n",
       "      <td>4.7</td>\n",
       "      <td>2.0</td>\n",
       "      <td>2.0</td>\n",
       "    </tr>\n",
       "    <tr>\n",
       "      <th>7</th>\n",
       "      <td>6.7</td>\n",
       "      <td>3.0</td>\n",
       "      <td>2.0</td>\n",
       "    </tr>\n",
       "    <tr>\n",
       "      <th>8</th>\n",
       "      <td>5.0</td>\n",
       "      <td>3.0</td>\n",
       "      <td>3.0</td>\n",
       "    </tr>\n",
       "    <tr>\n",
       "      <th>9</th>\n",
       "      <td>8.7</td>\n",
       "      <td>6.0</td>\n",
       "      <td>6.0</td>\n",
       "    </tr>\n",
       "    <tr>\n",
       "      <th>10</th>\n",
       "      <td>9.7</td>\n",
       "      <td>6.0</td>\n",
       "      <td>6.0</td>\n",
       "    </tr>\n",
       "  </tbody>\n",
       "</table>\n",
       "</div>"
      ],
      "text/plain": [
       "     Produccion  Operarios  Generadores\n",
       "Año                                    \n",
       "1           3.3        4.0          3.0\n",
       "2           5.3        4.0          2.0\n",
       "3           5.3        3.0          2.0\n",
       "4           4.3        2.0          3.0\n",
       "5           6.0        2.0          3.0\n",
       "6           4.7        2.0          2.0\n",
       "7           6.7        3.0          2.0\n",
       "8           5.0        3.0          3.0\n",
       "9           8.7        6.0          6.0\n",
       "10          9.7        6.0          6.0"
      ]
     },
     "execution_count": 16,
     "metadata": {},
     "output_type": "execute_result"
    }
   ],
   "source": [
    "# Imprimir producción cada año\n",
    "prodProm = {i: (prodMin[i] + prodModa[i] + prodMax[i]) / 3 for i in Pozos}\n",
    "\n",
    "pr = {\n",
    "    t: round(sum((prodProm[i] * lp.value(x[i, t]) for i in Pozos)), 1) for t in Tiempos\n",
    "}\n",
    "op = {t: sum(operarios[i] * lp.value(x[i, t]) for i in Pozos) for t in Tiempos}\n",
    "gen = {t: sum(generadores[i] * lp.value(x[i, t]) for i in Pozos) for t in Tiempos}\n",
    "\n",
    "resumen = pd.DataFrame([pr, op, gen]).transpose()\n",
    "resumen.columns = [\"Produccion\", \"Operarios\", \"Generadores\"]\n",
    "resumen.index.name = \"Año\"\n",
    "resumen"
   ]
  },
  {
   "cell_type": "markdown",
   "metadata": {
    "deletable": false,
    "editable": false,
    "nbgrader": {
     "cell_type": "markdown",
     "checksum": "f22d05020ea88e46007a9a959a5e1d10",
     "grade": false,
     "grade_id": "cell-0254e0b1f475a1b0",
     "locked": true,
     "schema_version": 3,
     "solution": false,
     "task": false
    }
   },
   "source": [
    "**Producción, operarios y generadores utilizados en cada año**"
   ]
  },
  {
   "cell_type": "code",
   "execution_count": 17,
   "metadata": {
    "deletable": false,
    "editable": false,
    "nbgrader": {
     "cell_type": "code",
     "checksum": "a27275e9428b98241ce8bc7974066be9",
     "grade": false,
     "grade_id": "cell-af28a5b62394b3cb",
     "locked": true,
     "schema_version": 3,
     "solution": false,
     "task": false
    }
   },
   "outputs": [
    {
     "data": {
      "text/html": [
       "<div>\n",
       "<style scoped>\n",
       "    .dataframe tbody tr th:only-of-type {\n",
       "        vertical-align: middle;\n",
       "    }\n",
       "\n",
       "    .dataframe tbody tr th {\n",
       "        vertical-align: top;\n",
       "    }\n",
       "\n",
       "    .dataframe thead th {\n",
       "        text-align: right;\n",
       "    }\n",
       "</style>\n",
       "<table border=\"1\" class=\"dataframe\">\n",
       "  <thead>\n",
       "    <tr style=\"text-align: right;\">\n",
       "      <th></th>\n",
       "      <th>Produccion</th>\n",
       "      <th>Operarios</th>\n",
       "      <th>Generadores</th>\n",
       "    </tr>\n",
       "    <tr>\n",
       "      <th>Año</th>\n",
       "      <th></th>\n",
       "      <th></th>\n",
       "      <th></th>\n",
       "    </tr>\n",
       "  </thead>\n",
       "  <tbody>\n",
       "    <tr>\n",
       "      <th>1</th>\n",
       "      <td>3.3</td>\n",
       "      <td>4.0</td>\n",
       "      <td>3.0</td>\n",
       "    </tr>\n",
       "    <tr>\n",
       "      <th>2</th>\n",
       "      <td>5.3</td>\n",
       "      <td>4.0</td>\n",
       "      <td>2.0</td>\n",
       "    </tr>\n",
       "    <tr>\n",
       "      <th>3</th>\n",
       "      <td>5.3</td>\n",
       "      <td>3.0</td>\n",
       "      <td>2.0</td>\n",
       "    </tr>\n",
       "    <tr>\n",
       "      <th>4</th>\n",
       "      <td>4.3</td>\n",
       "      <td>2.0</td>\n",
       "      <td>3.0</td>\n",
       "    </tr>\n",
       "    <tr>\n",
       "      <th>5</th>\n",
       "      <td>6.0</td>\n",
       "      <td>2.0</td>\n",
       "      <td>3.0</td>\n",
       "    </tr>\n",
       "    <tr>\n",
       "      <th>6</th>\n",
       "      <td>4.7</td>\n",
       "      <td>2.0</td>\n",
       "      <td>2.0</td>\n",
       "    </tr>\n",
       "    <tr>\n",
       "      <th>7</th>\n",
       "      <td>6.7</td>\n",
       "      <td>3.0</td>\n",
       "      <td>2.0</td>\n",
       "    </tr>\n",
       "    <tr>\n",
       "      <th>8</th>\n",
       "      <td>5.0</td>\n",
       "      <td>3.0</td>\n",
       "      <td>3.0</td>\n",
       "    </tr>\n",
       "    <tr>\n",
       "      <th>9</th>\n",
       "      <td>8.7</td>\n",
       "      <td>6.0</td>\n",
       "      <td>6.0</td>\n",
       "    </tr>\n",
       "    <tr>\n",
       "      <th>10</th>\n",
       "      <td>9.7</td>\n",
       "      <td>6.0</td>\n",
       "      <td>6.0</td>\n",
       "    </tr>\n",
       "  </tbody>\n",
       "</table>\n",
       "</div>"
      ],
      "text/plain": [
       "     Produccion  Operarios  Generadores\n",
       "Año                                    \n",
       "1           3.3        4.0          3.0\n",
       "2           5.3        4.0          2.0\n",
       "3           5.3        3.0          2.0\n",
       "4           4.3        2.0          3.0\n",
       "5           6.0        2.0          3.0\n",
       "6           4.7        2.0          2.0\n",
       "7           6.7        3.0          2.0\n",
       "8           5.0        3.0          3.0\n",
       "9           8.7        6.0          6.0\n",
       "10          9.7        6.0          6.0"
      ]
     },
     "execution_count": 17,
     "metadata": {},
     "output_type": "execute_result"
    }
   ],
   "source": [
    "# Imprimir producción cada año\n",
    "prodProm = {i: (prodMin[i]+prodModa[i]+prodMax[i])/3 for i in Pozos}\n",
    "\n",
    "pr = {t: round(sum((prodProm[i]*lp.value(x[i,t]) for i in Pozos)),1) for t in Tiempos}\n",
    "op = {t: sum(operarios[i]*lp.value(x[i,t]) for i in Pozos) for t in Tiempos}\n",
    "gen = {t: sum(generadores[i]*lp.value(x[i,t]) for i in Pozos) for t in Tiempos}\n",
    "\n",
    "resumen = pd.DataFrame([pr, op, gen]).transpose() \n",
    "resumen.columns=['Produccion', 'Operarios', 'Generadores']\n",
    "resumen.index.name = 'Año'\n",
    "resumen"
   ]
  },
  {
   "cell_type": "markdown",
   "metadata": {
    "deletable": false,
    "editable": false,
    "nbgrader": {
     "cell_type": "markdown",
     "checksum": "40232635d72dd55ae9653b0d3847f71e",
     "grade": false,
     "grade_id": "cell-fd6a91wb23723db3",
     "locked": true,
     "schema_version": 3,
     "solution": false,
     "task": false
    },
    "tags": []
   },
   "source": [
    "### Visualizaciones\n",
    "---"
   ]
  },
  {
   "cell_type": "markdown",
   "metadata": {
    "deletable": false,
    "editable": false,
    "nbgrader": {
     "cell_type": "markdown",
     "checksum": "d6b513a7212a37f98bb70490ba8f6a7a",
     "grade": false,
     "grade_id": "cell-81d8e0c4992d661d",
     "locked": true,
     "schema_version": 3,
     "solution": false,
     "task": false
    }
   },
   "source": [
    "**Metas de producción**"
   ]
  },
  {
   "cell_type": "code",
   "execution_count": 18,
   "metadata": {
    "deletable": false,
    "editable": false,
    "nbgrader": {
     "cell_type": "code",
     "checksum": "74946c6e41ccbb974555b3b64f7651d8",
     "grade": false,
     "grade_id": "cell-a31affd66d80a167",
     "locked": true,
     "schema_version": 3,
     "solution": false,
     "task": false
    }
   },
   "outputs": [
    {
     "data": {
      "image/png": "[encoded data removed]",
      "text/plain": [
       "<Figure size 640x480 with 1 Axes>"
      ]
     },
     "metadata": {
      "image/png": {
       "height": 454,
       "width": 562
      }
     },
     "output_type": "display_data"
    }
   ],
   "source": [
    "plt.bar(Tiempos, pr.values(), color=\"green\", label=\"Produccion\")\n",
    "plt.bar(Tiempos, metas.values(), color=\"red\", label=\"Meta\")\n",
    "plt.bar(Tiempos, [val - 0.25 for val in metas.values()], color=\"green\")\n",
    "\n",
    "plt.legend()\n",
    "plt.xlabel(\"Año\")\n",
    "plt.ylabel(\"Miles de barriles\")\n",
    "plt.title(\"Cumplimiento de metas de producción\")\n",
    "\n",
    "plt.show()"
   ]
  },
  {
   "cell_type": "markdown",
   "metadata": {
    "deletable": false,
    "editable": false,
    "nbgrader": {
     "cell_type": "markdown",
     "checksum": "ef8fdea8877251a0068ac407e67da561",
     "grade": false,
     "grade_id": "cell-83d8e0c4992d661d",
     "locked": true,
     "schema_version": 3,
     "solution": false,
     "task": false
    }
   },
   "source": [
    "**Uso de operarios**"
   ]
  },
  {
   "cell_type": "code",
   "execution_count": 19,
   "metadata": {
    "deletable": false,
    "editable": false,
    "nbgrader": {
     "cell_type": "code",
     "checksum": "ec022d6d3315c681f8e729d9a5afa369",
     "grade": false,
     "grade_id": "cell-a35affd66d80a167",
     "locked": true,
     "schema_version": 3,
     "solution": false,
     "task": false
    }
   },
   "outputs": [
    {
     "data": {
      "image/png": "[encoded data removed]",
      "text/plain": [
       "<Figure size 640x480 with 1 Axes>"
      ]
     },
     "metadata": {
      "image/png": {
       "height": 454,
       "width": 562
      }
     },
     "output_type": "display_data"
    }
   ],
   "source": [
    "plt.bar(Tiempos, op.values(), color=\"blue\", alpha=0.5, label=\"Utilizados\")\n",
    "if caso_operarios:\n",
    "    plt.plot(\n",
    "        Tiempos,\n",
    "        list(operariosDisp.values()),\n",
    "        color=\"red\",\n",
    "        label=\"Disponibles\",\n",
    "        linestyle=\"-\",\n",
    "        marker=\"o\",\n",
    "    )\n",
    "else:\n",
    "    plt.plot(\n",
    "        range(0, 12),\n",
    "        [maxOperarios] * (len(Tiempos) + 2),\n",
    "        color=\"red\",\n",
    "        label=\"Disponibles\",\n",
    "    )\n",
    "\n",
    "plt.legend()\n",
    "plt.ylim(0, 12)\n",
    "plt.xlabel(\"Año\")\n",
    "plt.ylabel(\"Operarios\")\n",
    "plt.title(\"Operarios utilizados por año\")\n",
    "\n",
    "plt.show()"
   ]
  },
  {
   "cell_type": "markdown",
   "metadata": {
    "deletable": false,
    "editable": false,
    "nbgrader": {
     "cell_type": "markdown",
     "checksum": "de59a5ebea978ea5a8d8bf12d537dc43",
     "grade": false,
     "grade_id": "cell-fdf2c0c658101178",
     "locked": true,
     "schema_version": 3,
     "solution": false,
     "task": false
    }
   },
   "source": [
    "**Uso de generadores**"
   ]
  },
  {
   "cell_type": "code",
   "execution_count": 20,
   "metadata": {
    "deletable": false,
    "editable": false,
    "nbgrader": {
     "cell_type": "code",
     "checksum": "be5e50e3e95b3a09cf55cb4bde2b9b33",
     "grade": false,
     "grade_id": "cell-9a3fd75cb096702f",
     "locked": true,
     "schema_version": 3,
     "solution": false,
     "task": false
    }
   },
   "outputs": [
    {
     "data": {
      "image/png": "[encoded data removed]",
      "text/plain": [
       "<Figure size 640x480 with 1 Axes>"
      ]
     },
     "metadata": {
      "image/png": {
       "height": 454,
       "width": 562
      }
     },
     "output_type": "display_data"
    }
   ],
   "source": [
    "plt.bar(Tiempos, gen.values(), color=\"blue\", alpha=0.5, label=\"Utilizados\")\n",
    "plt.plot(\n",
    "    range(0, 12),\n",
    "    [maxGeneradores] * (len(Tiempos) + 2),\n",
    "    color=\"red\",\n",
    "    label=\"Disponibles\",\n",
    ")\n",
    "\n",
    "plt.legend()\n",
    "plt.ylim(0, 12)\n",
    "plt.xlabel(\"Año\")\n",
    "plt.ylabel(\"Generadores\")\n",
    "plt.title(\"Generadores utilizados por año\")\n",
    "\n",
    "plt.show()"
   ]
  },
  {
   "cell_type": "markdown",
   "metadata": {
    "deletable": false,
    "editable": false,
    "nbgrader": {
     "cell_type": "markdown",
     "checksum": "54241a12210afba1fe4b2ba3a32d97a7",
     "grade": false,
     "grade_id": "cell-2fe5051c526bb342",
     "locked": true,
     "schema_version": 3,
     "solution": false,
     "task": false
    }
   },
   "source": [
    "## Opcional (0 puntos)\n",
    "\n",
    "*Una vez esté listo el modelo, puedes cambiar los valores de los parámetros a continuación para verificar como cambian las soluciones y la función objetivo. Para esto debes correr nuevamente las celdas que crean el modelo desde el principio*"
   ]
  },
  {
   "cell_type": "code",
   "execution_count": 21,
   "metadata": {},
   "outputs": [],
   "source": [
    "# Parámetros modificables\n",
    "presupuesto = 120  # Presupuesto máximo\n",
    "maxProyectos = 12  # Máximo número de proyectos a realizar - restricción ambiental\n",
    "maxOperarios = 6  # Máximo número de operarios por año\n",
    "maxGeneradores = 6  # Máximo número de generadores por año"
   ]
  },
  {
   "cell_type": "markdown",
   "metadata": {
    "deletable": false,
    "editable": false,
    "nbgrader": {
     "cell_type": "markdown",
     "checksum": "b6839e4f153bea14afa39f40a816c5dc",
     "grade": false,
     "grade_id": "cell-9224b09dd99ed630",
     "locked": true,
     "schema_version": 3,
     "solution": false,
     "task": false
    }
   },
   "source": [
    "**Reflexión**: ¿Tienen sentido los cambios en las soluciones y el valor de la función objetivo para cada variante del problema? ¿Puedes explicar porqué ocurren estos cambios?"
   ]
  },
  {
   "cell_type": "markdown",
   "metadata": {
    "deletable": false,
    "editable": false,
    "nbgrader": {
     "cell_type": "markdown",
     "checksum": "38857f2626bcad9c8c3955febbc3d42a",
     "grade": false,
     "grade_id": "cell-bf075708d50bf778",
     "locked": true,
     "schema_version": 3,
     "solution": false,
     "task": false
    }
   },
   "source": [
    "### Fin del laboratorio\n",
    "---\n",
    "Cuando hayas finalizado las preguntas, debes presionar el botón \"Enviar tarea\" en la parte superior.\n",
    "\n",
    "Después de enviar el laboratorio, debes esperar algunos minutos para que se cargue la nota en Coursera.\n",
    "¡Muchos éxitos!"
   ]
  }
 ],
 "metadata": {
  "kernelspec": {
   "display_name": "Python 3",
   "language": "python",
   "name": "python3"
  },
  "language_info": {
   "codemirror_mode": {
    "name": "ipython",
    "version": 3
   },
   "file_extension": ".py",
   "mimetype": "text/x-python",
   "name": "python",
   "nbconvert_exporter": "python",
   "pygments_lexer": "ipython3",
   "version": "3.12.4"
  },
  "toc-autonumbering": false,
  "toc-showcode": false,
  "toc-showmarkdowntxt": false,
  "toc-showtags": false
 },
 "nbformat": 4,
 "nbformat_minor": 5
}
